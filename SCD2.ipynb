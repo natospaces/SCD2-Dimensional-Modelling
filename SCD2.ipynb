{
 "cells": [
  {
   "cell_type": "markdown",
   "id": "46625b20-8df4-46b3-9ea8-b30ef3965f6d",
   "metadata": {
    "microsoft": {
     "language": "python",
     "language_group": "synapse_pyspark"
    },
    "nteract": {
     "transient": {
      "deleting": false
     }
    }
   },
   "source": [
    "In the current notebook, the customer dimension is **managed as SCD1**, meaning it always reflects only the latest state of each customer’s attributes. In bigger systems chances are, address would be a different dimension.\n",
    "\n",
    "SCD 1 approach for a dimension that's likely to change somewhat frequently creates  subtle but critical flaws as we will see in the FICA logic as well ."
   ]
  },
  {
   "cell_type": "markdown",
   "id": "80a6b3a0-6b08-4745-abff-bb6ff7b2da44",
   "metadata": {
    "microsoft": {
     "language": "python",
     "language_group": "synapse_pyspark"
    },
    "nteract": {
     "transient": {
      "deleting": false
     }
    }
   },
   "source": [
    "In South Africa's financial sector, FICA (Financial Intelligence Centre Act) compliance is the frontline defense against all kinds of finance related illegal activities. \n",
    "\n",
    "We will make an assumption that financial institutions monitor customer transactions against geographic risk profiles up to street level.\n",
    "\n",
    "Our current system uses **SCD1 (Slowly Changing Dimension Type 1)** which simply overwrites old addresses with new ones. \n",
    "\n",
    "Creating a temporal blind spot in compliance monitoring. \n",
    "\n",
    "\n",
    "When our protagonist customer **Jommy Dubal** moves from a low-risk street(**Techvona**) to a high-risk one (**Vleys Wonderline**), we lose the historical context needed to properly evaluate his past transactions.\n",
    "\n",
    "The result? We might miss genuine compliance violations or trigger false alerts that waste investigative resources. \n",
    "\n",
    "In the current notebook, our customer dimension reflects only the latest state of each customer's attributes, creating subtle but critical flaws in our simplified FICA logic.\n",
    "\n",
    "The question becomes: \"Was this customer actually living in a high-risk area when they made that large deposit a while back?\" \n",
    "\n",
    "**SCD1 can't answer this - but SCD2 can** transform our compliance monitoring from guesswork into improved intelligence.\n"
   ]
  },
  {
   "cell_type": "code",
   "execution_count": 3,
   "id": "6188980c-c2cc-4075-954a-660295638c6a",
   "metadata": {
    "collapsed": false,
    "jupyter": {
     "outputs_hidden": false
    },
    "microsoft": {
     "language": "python",
     "language_group": "synapse_pyspark"
    }
   },
   "outputs": [
    {
     "data": {
      "text/html": [
       "<div>\n",
       "<style scoped>\n",
       "    .dataframe tbody tr th:only-of-type {\n",
       "        vertical-align: middle;\n",
       "    }\n",
       "\n",
       "    .dataframe tbody tr th {\n",
       "        vertical-align: top;\n",
       "    }\n",
       "\n",
       "    .dataframe thead th {\n",
       "        text-align: right;\n",
       "    }\n",
       "</style>\n",
       "<table border=\"1\" class=\"dataframe\">\n",
       "  <thead>\n",
       "    <tr style=\"text-align: right;\">\n",
       "      <th></th>\n",
       "      <th>customer_id</th>\n",
       "      <th>name</th>\n",
       "      <th>street_name</th>\n",
       "      <th>street_code</th>\n",
       "      <th>last_modified</th>\n",
       "    </tr>\n",
       "  </thead>\n",
       "  <tbody>\n",
       "    <tr>\n",
       "      <th>0</th>\n",
       "      <td>1001</td>\n",
       "      <td>Jommy Dubal</td>\n",
       "      <td>Techvona Rd</td>\n",
       "      <td>5</td>\n",
       "      <td>2024-01-05</td>\n",
       "    </tr>\n",
       "  </tbody>\n",
       "</table>\n",
       "</div>"
      ],
      "text/plain": [
       "   customer_id         name  street_name  street_code last_modified\n",
       "0         1001  Jommy Dubal  Techvona Rd            5    2024-01-05"
      ]
     },
     "metadata": {},
     "output_type": "display_data"
    },
    {
     "data": {
      "text/html": [
       "<div>\n",
       "<style scoped>\n",
       "    .dataframe tbody tr th:only-of-type {\n",
       "        vertical-align: middle;\n",
       "    }\n",
       "\n",
       "    .dataframe tbody tr th {\n",
       "        vertical-align: top;\n",
       "    }\n",
       "\n",
       "    .dataframe thead th {\n",
       "        text-align: right;\n",
       "    }\n",
       "</style>\n",
       "<table border=\"1\" class=\"dataframe\">\n",
       "  <thead>\n",
       "    <tr style=\"text-align: right;\">\n",
       "      <th></th>\n",
       "      <th>street_code</th>\n",
       "      <th>street_name</th>\n",
       "      <th>alert_threshold_amount</th>\n",
       "    </tr>\n",
       "  </thead>\n",
       "  <tbody>\n",
       "    <tr>\n",
       "      <th>0</th>\n",
       "      <td>5</td>\n",
       "      <td>Techvona Rd</td>\n",
       "      <td>300000</td>\n",
       "    </tr>\n",
       "    <tr>\n",
       "      <th>1</th>\n",
       "      <td>654</td>\n",
       "      <td>Vleys Wonderline St</td>\n",
       "      <td>180000</td>\n",
       "    </tr>\n",
       "  </tbody>\n",
       "</table>\n",
       "</div>"
      ],
      "text/plain": [
       "   street_code          street_name  alert_threshold_amount\n",
       "0            5          Techvona Rd                  300000\n",
       "1          654  Vleys Wonderline St                  180000"
      ]
     },
     "metadata": {},
     "output_type": "display_data"
    }
   ],
   "source": [
    "import pandas as pd\n",
    "\n",
    "# Jommy starts at Techvona Rd (high threshold)\n",
    "dim_customer = pd.DataFrame({\n",
    "    'customer_id': [1001],\n",
    "    'name': ['Jommy Dubal'],\n",
    "    'street_name': ['Techvona Rd'],\n",
    "    'street_code': [5],\n",
    "    'last_modified': ['2024-01-05']\n",
    "})\n",
    "\n",
    "dim_static_fica_alert = pd.DataFrame({\n",
    "    'street_code': [5, 654],\n",
    "    'street_name': ['Techvona Rd', 'Vleys Wonderline St'],\n",
    "    'alert_threshold_amount': [300000, 180000]\n",
    "})\n",
    "\n",
    "display(dim_customer)\n",
    "display(dim_static_fica_alert)\n"
   ]
  },
  {
   "cell_type": "markdown",
   "id": "25e10ca5-682d-4990-a4fb-df8c61ee4e43",
   "metadata": {
    "microsoft": {
     "language": "python",
     "language_group": "synapse_pyspark"
    },
    "nteract": {
     "transient": {
      "deleting": false
     }
    }
   },
   "source": [
    "Vleys address established with the street deposit thresholds of **R300 000** and **R180 000** respectively"
   ]
  },
  {
   "cell_type": "code",
   "execution_count": 4,
   "id": "177c9490-6b1c-49fd-8121-15de9e4fbce1",
   "metadata": {
    "collapsed": false,
    "jupyter": {
     "outputs_hidden": false
    },
    "microsoft": {
     "language": "python",
     "language_group": "synapse_pyspark"
    }
   },
   "outputs": [],
   "source": [
    "def alert_logic(fact_deposits, dim_customer, dim_static_fica_alert):\n",
    "\n",
    "    fact_with_dim = fact_deposits.merge(dim_customer, on='customer_id')\n",
    "\n",
    "    fact_with_dim = fact_with_dim.merge(dim_static_fica_alert, on='street_code')\n",
    "\n",
    "\n",
    "    fact_with_dim['alert_triggered'] = fact_with_dim['deposit_amount'] > fact_with_dim['alert_threshold_amount']\n",
    "\n",
    "    return fact_with_dim[[\n",
    "        'deposit_date',\n",
    "        'deposit_amount',\n",
    "        'alert_threshold_amount',\n",
    "        'alert_triggered'\n",
    "    ]]"
   ]
  },
  {
   "cell_type": "markdown",
   "id": "a5ea3386-81d1-4002-8759-4c8bf4843ddf",
   "metadata": {
    "microsoft": {
     "language": "python",
     "language_group": "synapse_pyspark"
    },
    "nteract": {
     "transient": {
      "deleting": false
     }
    }
   },
   "source": [
    "This alert logic screams \"deadline pressure\" and not so clear requirements - a junior engineer  nailed the basic joins, code reviews wouldn't hurt. The core logic works: link deposits to addresses, check against FICA thresholds, flag violations. Job done, right?\n",
    "\n",
    "Not quite. The output  excludes the actual addresses, making it impossible to debug why alerts fired. \n",
    "\n",
    "Munior dev treats the customer dimension like it's frozen in time ,awareness of SCD concepts would help.\n",
    "\n",
    "The result? Code that works beautifully until someone changes address, then either misses genuine compliance violations or flags innocent transactions based on where customers live now rather than where they lived when making deposits. \n",
    "\n",
    "Kind of \"works on my machine\" solution."
   ]
  },
  {
   "cell_type": "code",
   "execution_count": 5,
   "id": "c296163c-370f-4972-9d8e-8dc09d6a9831",
   "metadata": {
    "collapsed": false,
    "jupyter": {
     "outputs_hidden": false
    },
    "microsoft": {
     "language": "python",
     "language_group": "synapse_pyspark"
    }
   },
   "outputs": [
    {
     "data": {
      "text/html": [
       "<div>\n",
       "<style scoped>\n",
       "    .dataframe tbody tr th:only-of-type {\n",
       "        vertical-align: middle;\n",
       "    }\n",
       "\n",
       "    .dataframe tbody tr th {\n",
       "        vertical-align: top;\n",
       "    }\n",
       "\n",
       "    .dataframe thead th {\n",
       "        text-align: right;\n",
       "    }\n",
       "</style>\n",
       "<table border=\"1\" class=\"dataframe\">\n",
       "  <thead>\n",
       "    <tr style=\"text-align: right;\">\n",
       "      <th></th>\n",
       "      <th>deposit_date</th>\n",
       "      <th>deposit_amount</th>\n",
       "      <th>alert_threshold_amount</th>\n",
       "      <th>alert_triggered</th>\n",
       "    </tr>\n",
       "  </thead>\n",
       "  <tbody>\n",
       "    <tr>\n",
       "      <th>0</th>\n",
       "      <td>2024-01-10</td>\n",
       "      <td>250000</td>\n",
       "      <td>300000</td>\n",
       "      <td>False</td>\n",
       "    </tr>\n",
       "  </tbody>\n",
       "</table>\n",
       "</div>"
      ],
      "text/plain": [
       "  deposit_date  deposit_amount  alert_threshold_amount  alert_triggered\n",
       "0   2024-01-10          250000                  300000            False"
      ]
     },
     "execution_count": 5,
     "metadata": {},
     "output_type": "execute_result"
    }
   ],
   "source": [
    "# Jommy makes a deposit \n",
    "fact_deposit_2024_01_10 = pd.DataFrame({\n",
    "    'deposit_id': [1],\n",
    "    'customer_id': [1001],\n",
    "    'deposit_date': ['2024-01-10'],\n",
    "    'deposit_amount': [250000]\n",
    "})\n",
    "\n",
    "alert_logic(fact_deposit_2024_01_10, dim_customer, dim_static_fica_alert)\n"
   ]
  },
  {
   "cell_type": "markdown",
   "id": "ca38cb34-d89e-4a13-b508-f997fcc4015f",
   "metadata": {
    "microsoft": {
     "language": "python",
     "language_group": "synapse_pyspark"
    },
    "nteract": {
     "transient": {
      "deleting": false
     }
    }
   },
   "source": [
    "Dev uses the function and yay The alert is correct: Jommy’s deposit is below the threshold for Techvona Rd. SCD1 appears to work."
   ]
  },
  {
   "cell_type": "code",
   "execution_count": 6,
   "id": "927d0000-6b9f-40fe-99c9-2c6999f258ae",
   "metadata": {
    "microsoft": {
     "language": "python",
     "language_group": "synapse_pyspark"
    }
   },
   "outputs": [],
   "source": [
    "# Jommy moves to Vleyz Wonderline (lower threshold)\n",
    "dim_customer.loc[0, ['street_name', 'street_code', 'last_modified']] = ['Vleyz Wonderline St', 654, '2025-07-01']\n"
   ]
  },
  {
   "cell_type": "markdown",
   "id": "87c80dc7-3589-4b80-b4fa-9a18f2069c5d",
   "metadata": {
    "microsoft": {
     "language": "python",
     "language_group": "synapse_pyspark"
    },
    "nteract": {
     "transient": {
      "deleting": false
     }
    }
   },
   "source": [
    "Then what we worried about happens, Jommy downgrades to Vleys and the dimension table keeps its number of rows while overwriting street history, nobody told our junior dev,oppps."
   ]
  },
  {
   "cell_type": "code",
   "execution_count": 7,
   "id": "54968de0-8208-465b-8d61-a0d31ecc2377",
   "metadata": {
    "microsoft": {
     "language": "python",
     "language_group": "synapse_pyspark"
    }
   },
   "outputs": [
    {
     "data": {
      "text/html": [
       "<div>\n",
       "<style scoped>\n",
       "    .dataframe tbody tr th:only-of-type {\n",
       "        vertical-align: middle;\n",
       "    }\n",
       "\n",
       "    .dataframe tbody tr th {\n",
       "        vertical-align: top;\n",
       "    }\n",
       "\n",
       "    .dataframe thead th {\n",
       "        text-align: right;\n",
       "    }\n",
       "</style>\n",
       "<table border=\"1\" class=\"dataframe\">\n",
       "  <thead>\n",
       "    <tr style=\"text-align: right;\">\n",
       "      <th></th>\n",
       "      <th>deposit_date</th>\n",
       "      <th>deposit_amount</th>\n",
       "      <th>alert_threshold_amount</th>\n",
       "      <th>alert_triggered</th>\n",
       "    </tr>\n",
       "  </thead>\n",
       "  <tbody>\n",
       "    <tr>\n",
       "      <th>0</th>\n",
       "      <td>2025-07-10</td>\n",
       "      <td>150000</td>\n",
       "      <td>180000</td>\n",
       "      <td>False</td>\n",
       "    </tr>\n",
       "  </tbody>\n",
       "</table>\n",
       "</div>"
      ],
      "text/plain": [
       "  deposit_date  deposit_amount  alert_threshold_amount  alert_triggered\n",
       "0   2025-07-10          150000                  180000            False"
      ]
     },
     "execution_count": 7,
     "metadata": {},
     "output_type": "execute_result"
    }
   ],
   "source": [
    "# Jommy makes a new deposit after the move\n",
    "fact_deposit_2025_07_10 = pd.DataFrame({\n",
    "    'deposit_id': [2],\n",
    "    'customer_id': [1001],\n",
    "    'deposit_date': ['2025-07-10'],\n",
    "    'deposit_amount': [150000]\n",
    "})\n",
    "\n",
    "alert_logic(fact_deposit_2025_07_10, dim_customer, dim_static_fica_alert)\n"
   ]
  },
  {
   "cell_type": "markdown",
   "id": "57d373aa-023d-49d9-9719-d224a9f1392c",
   "metadata": {
    "microsoft": {
     "language": "python",
     "language_group": "synapse_pyspark"
    },
    "nteract": {
     "transient": {
      "deleting": false
     }
    }
   },
   "source": [
    "Junior's function worked again, promotion loading"
   ]
  },
  {
   "cell_type": "code",
   "execution_count": 8,
   "id": "16a5fe79-85c5-4760-ac69-56a2eb78a098",
   "metadata": {
    "microsoft": {
     "language": "python",
     "language_group": "synapse_pyspark"
    }
   },
   "outputs": [
    {
     "data": {
      "text/html": [
       "<div>\n",
       "<style scoped>\n",
       "    .dataframe tbody tr th:only-of-type {\n",
       "        vertical-align: middle;\n",
       "    }\n",
       "\n",
       "    .dataframe tbody tr th {\n",
       "        vertical-align: top;\n",
       "    }\n",
       "\n",
       "    .dataframe thead th {\n",
       "        text-align: right;\n",
       "    }\n",
       "</style>\n",
       "<table border=\"1\" class=\"dataframe\">\n",
       "  <thead>\n",
       "    <tr style=\"text-align: right;\">\n",
       "      <th></th>\n",
       "      <th>deposit_date</th>\n",
       "      <th>deposit_amount</th>\n",
       "      <th>alert_threshold_amount</th>\n",
       "      <th>alert_triggered</th>\n",
       "    </tr>\n",
       "  </thead>\n",
       "  <tbody>\n",
       "    <tr>\n",
       "      <th>0</th>\n",
       "      <td>2024-01-10</td>\n",
       "      <td>250000</td>\n",
       "      <td>180000</td>\n",
       "      <td>True</td>\n",
       "    </tr>\n",
       "  </tbody>\n",
       "</table>\n",
       "</div>"
      ],
      "text/plain": [
       "  deposit_date  deposit_amount  alert_threshold_amount  alert_triggered\n",
       "0   2024-01-10          250000                  180000             True"
      ]
     },
     "execution_count": 8,
     "metadata": {},
     "output_type": "execute_result"
    }
   ],
   "source": [
    "alert_logic(fact_deposit_2024_01_10, dim_customer, dim_static_fica_alert)\n"
   ]
  },
  {
   "cell_type": "markdown",
   "id": "b87a0af0-3d38-4613-b8c8-0ab9adba6026",
   "metadata": {
    "microsoft": {
     "language": "python",
     "language_group": "synapse_pyspark"
    },
    "nteract": {
     "transient": {
      "deleting": false
     }
    }
   },
   "source": [
    "Disaster strikes when junior was raving about how well the alert method worked, all of a sudden the deposit which was correct from first execution has triggered an alert. \n",
    "\n",
    "What happened ? \n",
    "\n",
    "For starters the threshold amount shrunk like Jommy's downgrade.\n",
    "\n",
    "Late night investigation looms for our dev"
   ]
  },
  {
   "cell_type": "markdown",
   "id": "82164959-3e83-4b86-aa4a-a8c09390edc5",
   "metadata": {
    "microsoft": {
     "language": "python",
     "language_group": "synapse_pyspark"
    },
    "nteract": {
     "transient": {
      "deleting": false
     }
    }
   },
   "source": [
    "#### Now let's embark to an alternative universe of SCD2"
   ]
  },
  {
   "cell_type": "code",
   "execution_count": 9,
   "id": "ae96b96e-7ac9-42b2-891b-a4bc289e6ee9",
   "metadata": {
    "microsoft": {
     "language": "python",
     "language_group": "synapse_pyspark"
    }
   },
   "outputs": [],
   "source": [
    "dim_customer_scd2 = pd.DataFrame({\n",
    "    'customer_id': [1001],\n",
    "    'name': ['Jommy Dubal'],\n",
    "    'street_name': ['Techvona Rd'],\n",
    "    'street_code': [5],\n",
    "    'last_modified': '2024-01-05',\n",
    "    'valid_from': '2024-01-05',\n",
    "    'valid_to': None,\n",
    "    'is_current': 1\n",
    "})"
   ]
  },
  {
   "cell_type": "markdown",
   "id": "ae984e6f-417d-4e86-8193-0e9e6f13868d",
   "metadata": {
    "microsoft": {
     "language": "python",
     "language_group": "synapse_pyspark"
    },
    "nteract": {
     "transient": {
      "deleting": false
     }
    }
   },
   "source": [
    "Now our dimension table in our dimension table we sport 2 columns whose names are similar\n",
    "\n",
    "**valid_from** and **valid_to** ,what's that about ?\n",
    "\n",
    "then **is_curren**t too ? \n",
    "\n",
    "Busy dimension  but **governance friendly**\n",
    "\n",
    "- **valid_from** now tracks when we first knew about the address\n",
    "- **valid_to** provides **audit trails** for historical analysis so **when Jommy moves we will update this value**\n",
    "- **is_current** ensures **query performance** as we are gong to lean on filtering by this column when our focus is current record, and at the same time data lineage has improved"
   ]
  },
  {
   "cell_type": "code",
   "execution_count": 10,
   "id": "e01e530b-1124-4879-974d-b79224627531",
   "metadata": {
    "collapsed": false,
    "jupyter": {
     "outputs_hidden": false
    },
    "microsoft": {
     "language": "python",
     "language_group": "synapse_pyspark"
    }
   },
   "outputs": [
    {
     "data": {
      "text/html": [
       "<div>\n",
       "<style scoped>\n",
       "    .dataframe tbody tr th:only-of-type {\n",
       "        vertical-align: middle;\n",
       "    }\n",
       "\n",
       "    .dataframe tbody tr th {\n",
       "        vertical-align: top;\n",
       "    }\n",
       "\n",
       "    .dataframe thead th {\n",
       "        text-align: right;\n",
       "    }\n",
       "</style>\n",
       "<table border=\"1\" class=\"dataframe\">\n",
       "  <thead>\n",
       "    <tr style=\"text-align: right;\">\n",
       "      <th></th>\n",
       "      <th>customer_id</th>\n",
       "      <th>name</th>\n",
       "      <th>street_name</th>\n",
       "      <th>street_code</th>\n",
       "      <th>last_modified</th>\n",
       "      <th>valid_from</th>\n",
       "      <th>valid_to</th>\n",
       "      <th>is_current</th>\n",
       "    </tr>\n",
       "  </thead>\n",
       "  <tbody>\n",
       "    <tr>\n",
       "      <th>0</th>\n",
       "      <td>1001</td>\n",
       "      <td>Jommy Dubal</td>\n",
       "      <td>Techvona Rd</td>\n",
       "      <td>5</td>\n",
       "      <td>2024-01-05</td>\n",
       "      <td>2024-01-05</td>\n",
       "      <td>2025-07-10</td>\n",
       "      <td>NaN</td>\n",
       "    </tr>\n",
       "    <tr>\n",
       "      <th>1</th>\n",
       "      <td>1001</td>\n",
       "      <td>Jommy Dubal</td>\n",
       "      <td>Vleys Wonderline St</td>\n",
       "      <td>564</td>\n",
       "      <td>2025-07-10</td>\n",
       "      <td>2024-07-11</td>\n",
       "      <td>None</td>\n",
       "      <td>1.0</td>\n",
       "    </tr>\n",
       "  </tbody>\n",
       "</table>\n",
       "</div>"
      ],
      "text/plain": [
       "   customer_id         name          street_name  street_code last_modified  \\\n",
       "0         1001  Jommy Dubal          Techvona Rd            5    2024-01-05   \n",
       "1         1001  Jommy Dubal  Vleys Wonderline St          564    2025-07-10   \n",
       "\n",
       "   valid_from    valid_to  is_current  \n",
       "0  2024-01-05  2025-07-10         NaN  \n",
       "1  2024-07-11        None         1.0  "
      ]
     },
     "metadata": {},
     "output_type": "display_data"
    }
   ],
   "source": [
    "# New data to append\n",
    "dim_customer_scd2.loc[0, ['valid_to','is_current']] = ['2025-07-10',None ]\n",
    "\n",
    "dim_customer_scd2_new_address = pd.DataFrame({\n",
    "    'customer_id': [1001],\n",
    "    'name': ['Jommy Dubal'],\n",
    "    'street_name': ['Vleys Wonderline St'],\n",
    "    'street_code': [564],\n",
    "    'last_modified': '2025-07-10',\n",
    "    'valid_from': '2024-07-11',\n",
    "    'valid_to': None,\n",
    "    'is_current': 1\n",
    "})\n",
    "\n",
    "# Append using concat\n",
    "result = pd.concat([dim_customer_scd2, dim_customer_scd2_new_address], ignore_index=True)\n",
    "display(result)"
   ]
  },
  {
   "cell_type": "markdown",
   "id": "f2f3f2cc-a826-4b4b-9d10-7c2a84abb2a9",
   "metadata": {
    "microsoft": {
     "language": "python",
     "language_group": "synapse_pyspark"
    },
    "nteract": {
     "transient": {
      "deleting": false
     }
    }
   },
   "source": [
    "Now when our junior tries his flawed method, at least things are not that bad."
   ]
  },
  {
   "cell_type": "code",
   "execution_count": 11,
   "id": "507fed97-8337-4c0e-bb8d-a4764d4db2fc",
   "metadata": {
    "microsoft": {
     "language": "python",
     "language_group": "synapse_pyspark"
    }
   },
   "outputs": [
    {
     "data": {
      "text/html": [
       "<div>\n",
       "<style scoped>\n",
       "    .dataframe tbody tr th:only-of-type {\n",
       "        vertical-align: middle;\n",
       "    }\n",
       "\n",
       "    .dataframe tbody tr th {\n",
       "        vertical-align: top;\n",
       "    }\n",
       "\n",
       "    .dataframe thead th {\n",
       "        text-align: right;\n",
       "    }\n",
       "</style>\n",
       "<table border=\"1\" class=\"dataframe\">\n",
       "  <thead>\n",
       "    <tr style=\"text-align: right;\">\n",
       "      <th></th>\n",
       "      <th>deposit_date</th>\n",
       "      <th>deposit_amount</th>\n",
       "      <th>alert_threshold_amount</th>\n",
       "      <th>alert_triggered</th>\n",
       "    </tr>\n",
       "  </thead>\n",
       "  <tbody>\n",
       "    <tr>\n",
       "      <th>0</th>\n",
       "      <td>2024-01-10</td>\n",
       "      <td>250000</td>\n",
       "      <td>300000</td>\n",
       "      <td>False</td>\n",
       "    </tr>\n",
       "  </tbody>\n",
       "</table>\n",
       "</div>"
      ],
      "text/plain": [
       "  deposit_date  deposit_amount  alert_threshold_amount  alert_triggered\n",
       "0   2024-01-10          250000                  300000            False"
      ]
     },
     "execution_count": 11,
     "metadata": {},
     "output_type": "execute_result"
    }
   ],
   "source": [
    "alert_logic(fact_deposit_2024_01_10, result, dim_static_fica_alert)"
   ]
  },
  {
   "cell_type": "markdown",
   "id": "ed0fec9a-abad-42d1-a7bf-8ecf70ff1faa",
   "metadata": {
    "microsoft": {
     "language": "python",
     "language_group": "synapse_pyspark"
    },
    "nteract": {
     "transient": {
      "deleting": false
     }
    }
   },
   "source": [
    "Junior better do a code review to improve that method but SCD2 partially saved the day."
   ]
  }
 ],
 "metadata": {
  "dependencies": {},
  "kernel_info": {
   "name": "synapse_pyspark"
  },
  "kernelspec": {
   "display_name": "Python 3 (ipykernel)",
   "language": "python",
   "name": "python3"
  },
  "language_info": {
   "codemirror_mode": {
    "name": "ipython",
    "version": 3
   },
   "file_extension": ".py",
   "mimetype": "text/x-python",
   "name": "python",
   "nbconvert_exporter": "python",
   "pygments_lexer": "ipython3",
   "version": "3.8.3"
  },
  "microsoft": {
   "language": "python",
   "language_group": "synapse_pyspark",
   "ms_spell_check": {
    "ms_spell_check_language": "en"
   }
  },
  "nteract": {
   "version": "nteract-front-end@1.0.0"
  },
  "spark_compute": {
   "compute_id": "/trident/default",
   "session_options": {
    "conf": {
     "spark.synapse.nbs.session.timeout": "1200000"
    }
   }
  },
  "synapse_widget": {
   "state": {
    "02ba681c-120e-4cb0-919e-94dd25831802": {
     "persist_state": {
      "view": {
       "chartOptions": {
        "aggregationType": "sum",
        "binsNumber": 10,
        "categoryFieldKeys": [],
        "chartType": "bar",
        "isStacked": false,
        "seriesFieldKeys": [],
        "wordFrequency": "-1"
       },
       "tableOptions": {},
       "type": "details",
       "viewOptionsGroup": [
        {
         "tabItems": [
          {
           "key": "0",
           "name": "Table",
           "options": {},
           "type": "table"
          }
         ]
        }
       ]
      }
     },
     "sync_state": {
      "isSummary": false,
      "language": "python",
      "table": {
       "rows": [
        {
         "0": "5",
         "1": "Techvona Rd",
         "2": "300000"
        },
        {
         "0": "654",
         "1": "Vleys Wonderline St",
         "2": "180000"
        }
       ],
       "schema": [
        {
         "key": "0",
         "name": "street_code",
         "type": "bigint"
        },
        {
         "key": "1",
         "name": "street_name",
         "type": "string"
        },
        {
         "key": "2",
         "name": "alert_threshold_amount",
         "type": "bigint"
        }
       ],
       "truncated": false
      },
      "wranglerEntryContext": {
       "candidateVariableNames": [
        "dim_static_fica_alert"
       ],
       "dataframeType": "pandas"
      }
     },
     "type": "Synapse.DataFrame"
    },
    "cfe7f8fe-fed6-4ea6-8d61-db6f3a08c9cc": {
     "persist_state": {
      "view": {
       "chartOptions": {
        "aggregationType": "sum",
        "binsNumber": 10,
        "categoryFieldKeys": [],
        "chartType": "bar",
        "isStacked": false,
        "seriesFieldKeys": [],
        "wordFrequency": "-1"
       },
       "tableOptions": {},
       "type": "details",
       "viewOptionsGroup": [
        {
         "tabItems": [
          {
           "key": "0",
           "name": "Table",
           "options": {},
           "type": "table"
          }
         ]
        }
       ]
      }
     },
     "sync_state": {
      "isSummary": false,
      "language": "python",
      "table": {
       "rows": [
        {
         "0": "1001",
         "1": "Jommy Dubal",
         "2": "Techvona Rd",
         "3": "5",
         "4": "2024-01-05",
         "5": "2024-01-05",
         "6": "2025-07-10",
         "7": null
        },
        {
         "0": "1001",
         "1": "Jommy Dubal",
         "2": "Vleys Wonderline St",
         "3": "564",
         "4": "2025-07-10",
         "5": "2024-07-11",
         "6": null,
         "7": "1.0"
        }
       ],
       "schema": [
        {
         "key": "0",
         "name": "customer_id",
         "type": "bigint"
        },
        {
         "key": "1",
         "name": "name",
         "type": "string"
        },
        {
         "key": "2",
         "name": "street_name",
         "type": "string"
        },
        {
         "key": "3",
         "name": "street_code",
         "type": "bigint"
        },
        {
         "key": "4",
         "name": "last_modified",
         "type": "string"
        },
        {
         "key": "5",
         "name": "valid_from",
         "type": "string"
        },
        {
         "key": "6",
         "name": "valid_to",
         "type": "string"
        },
        {
         "key": "7",
         "name": "is_current",
         "type": "double"
        }
       ],
       "truncated": false
      },
      "wranglerEntryContext": {
       "candidateVariableNames": [
        "result"
       ],
       "dataframeType": "pandas"
      }
     },
     "type": "Synapse.DataFrame"
    },
    "eeff705c-72e2-4f7c-bc8f-82fcdf7d5cc3": {
     "persist_state": {
      "view": {
       "chartOptions": {
        "aggregationType": "sum",
        "binsNumber": 10,
        "categoryFieldKeys": [],
        "chartType": "bar",
        "isStacked": false,
        "seriesFieldKeys": [],
        "wordFrequency": "-1"
       },
       "tableOptions": {},
       "type": "details",
       "viewOptionsGroup": [
        {
         "tabItems": [
          {
           "key": "0",
           "name": "Table",
           "options": {},
           "type": "table"
          }
         ]
        }
       ]
      }
     },
     "sync_state": {
      "isSummary": false,
      "language": "python",
      "table": {
       "rows": [
        {
         "0": "1001",
         "1": "Jommy Dubal",
         "2": "Techvona Rd",
         "3": "5",
         "4": "2024-01-05"
        }
       ],
       "schema": [
        {
         "key": "0",
         "name": "customer_id",
         "type": "bigint"
        },
        {
         "key": "1",
         "name": "name",
         "type": "string"
        },
        {
         "key": "2",
         "name": "street_name",
         "type": "string"
        },
        {
         "key": "3",
         "name": "street_code",
         "type": "bigint"
        },
        {
         "key": "4",
         "name": "last_modified",
         "type": "string"
        }
       ],
       "truncated": false
      },
      "wranglerEntryContext": {
       "candidateVariableNames": [
        "dim_customer"
       ],
       "dataframeType": "pandas"
      }
     },
     "type": "Synapse.DataFrame"
    }
   },
   "version": "0.1"
  }
 },
 "nbformat": 4,
 "nbformat_minor": 5
}
